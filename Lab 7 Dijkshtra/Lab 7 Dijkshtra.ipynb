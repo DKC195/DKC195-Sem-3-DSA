{
 "cells": [
  {
   "cell_type": "code",
   "execution_count": 8,
   "metadata": {},
   "outputs": [],
   "source": [
    "from math import inf\n",
    "from queue import PriorityQueue"
   ]
  },
  {
   "cell_type": "code",
   "execution_count": 9,
   "metadata": {},
   "outputs": [],
   "source": [
    "G = {'A': {'B': 3, 'C': 1},\n",
    "     'B': {'A': 3, 'C': 7, 'D': 5, 'E': 1},\n",
    "     'C': {'A': 1, 'B': 7, 'D': 2},\n",
    "     'D': {'C': 2, 'B': 5, 'E': 7},\n",
    "     'E': {'B': 1, 'D': 7}\n",
    "     }\n",
    "start = 'A'"
   ]
  },
  {
   "cell_type": "code",
   "execution_count": 10,
   "metadata": {},
   "outputs": [],
   "source": [
    "def initialize(G, start):\n",
    "  cost = dict()\n",
    "  previous = dict()\n",
    "  for vertex in G:\n",
    "    cost[vertex] = inf\n",
    "    previous[vertex] = ''\n",
    "  cost[start] = 0\n",
    "  return cost, previous    "
   ]
  },
  {
   "cell_type": "code",
   "execution_count": 11,
   "metadata": {},
   "outputs": [],
   "source": [
    "def relax(G, u, v, cost, previous):\n",
    "  if (cost[v] > cost[u]+G[u][v]):\n",
    "    cost[v] = cost[u] + G[u][v]\n",
    "    previous[v] = u\n",
    "  return cost, previous"
   ]
  },
  {
   "cell_type": "code",
   "execution_count": 12,
   "metadata": {},
   "outputs": [],
   "source": [
    "def DJ(G, start):\n",
    "  cost, previous = initialize(G, start)\n",
    "  visited = list()\n",
    "  Q = PriorityQueue()\n",
    "  for vertex in G:\n",
    "    Q.put((cost[vertex], vertex))\n",
    "  while (Q.empty() == False):\n",
    "    c, u = Q.get()\n",
    "    visited.append(u)\n",
    "    for chimike in G[u]:\n",
    "      if chimike not in visited:\n",
    "        cost, previous = relax(G, u, chimike, cost, previous)\n",
    "  return cost, previous\n",
    "    "
   ]
  },
  {
   "cell_type": "code",
   "execution_count": 16,
   "metadata": {},
   "outputs": [],
   "source": [
    "def constructPath(previous, start, end):\n",
    "  path = end\n",
    "  while (previous[end] != ''):\n",
    "    path = previous[end]+'->'+path\n",
    "    end = previous[end]\n",
    "  return path"
   ]
  },
  {
   "cell_type": "code",
   "execution_count": 13,
   "metadata": {},
   "outputs": [
    {
     "name": "stdout",
     "output_type": "stream",
     "text": [
      "{'A': 0, 'B': inf, 'C': inf, 'D': inf, 'E': inf}\n",
      "{'A': '', 'B': '', 'C': '', 'D': '', 'E': ''}\n"
     ]
    }
   ],
   "source": [
    "c, d = initialize(G, start)\n",
    "print(c)\n",
    "print(d)"
   ]
  },
  {
   "cell_type": "code",
   "execution_count": 14,
   "metadata": {},
   "outputs": [
    {
     "name": "stdout",
     "output_type": "stream",
     "text": [
      "({'A': 0, 'B': 3, 'C': 1, 'D': 3, 'E': 4}, {'A': '', 'B': 'A', 'C': 'A', 'D': 'C', 'E': 'B'})\n"
     ]
    }
   ],
   "source": [
    "print(DJ(G, 'A'))"
   ]
  },
  {
   "cell_type": "code",
   "execution_count": 18,
   "metadata": {},
   "outputs": [
    {
     "name": "stdout",
     "output_type": "stream",
     "text": [
      "Path starts from  A  to  A  is  A\n",
      "Path starts from  A  to  B  is  A->B\n",
      "Path starts from  A  to  C  is  A->C\n",
      "Path starts from  A  to  D  is  A->C->D\n",
      "Path starts from  A  to  E  is  A->B->E\n"
     ]
    }
   ],
   "source": [
    "start = 'A'\n",
    "cost, previous = DJ(G, start)\n",
    "for vertex in G:\n",
    "  print(\"Path starts from \", start, \" to \", vertex, \" is \", constructPath(previous, start, vertex))"
   ]
  },
  {
   "cell_type": "code",
   "execution_count": 29,
   "metadata": {},
   "outputs": [
    {
     "data": {
      "text/plain": [
       "(1, 'A')"
      ]
     },
     "execution_count": 29,
     "metadata": {},
     "output_type": "execute_result"
    }
   ],
   "source": [
    "Q = PriorityQueue()\n",
    "Q.put((1, 'A'))\n",
    "Q.put((2, 'B'))\n",
    "Q.put((0, 'C'))\n",
    "Q.get()\n",
    "Q.get()"
   ]
  }
 ],
 "metadata": {
  "kernelspec": {
   "display_name": "Python 3",
   "language": "python",
   "name": "python3"
  },
  "language_info": {
   "codemirror_mode": {
    "name": "ipython",
    "version": 3
   },
   "file_extension": ".py",
   "mimetype": "text/x-python",
   "name": "python",
   "nbconvert_exporter": "python",
   "pygments_lexer": "ipython3",
   "version": "3.11.1"
  },
  "orig_nbformat": 4,
  "vscode": {
   "interpreter": {
    "hash": "5c7b89af1651d0b8571dde13640ecdccf7d5a6204171d6ab33e7c296e100e08a"
   }
  }
 },
 "nbformat": 4,
 "nbformat_minor": 2
}
