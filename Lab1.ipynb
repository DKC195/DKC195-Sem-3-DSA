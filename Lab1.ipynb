{
 "cells": [
  {
   "cell_type": "code",
   "execution_count": 1,
   "metadata": {},
   "outputs": [],
   "source": [
    "def push(stack, element):\n",
    "  stack.append(element)\n",
    "  print(\"SUCCESS\")"
   ]
  },
  {
   "cell_type": "code",
   "execution_count": 2,
   "metadata": {},
   "outputs": [],
   "source": [
    "def popp(stack):\n",
    "  if len(stack) == 0:\n",
    "    return \"Stack Underflow\"\n",
    "  else:\n",
    "    data = stack.pop()\n",
    "    return data"
   ]
  },
  {
   "cell_type": "code",
   "execution_count": 3,
   "metadata": {},
   "outputs": [
    {
     "name": "stdout",
     "output_type": "stream",
     "text": [
      "1. PUSH\n",
      "2. POP\n",
      "3. EXIT\n"
     ]
    }
   ],
   "source": [
    "flag = True\n",
    "stack = list()\n",
    "while(flag):\n",
    "  print(\"1. PUSH\")\n",
    "  print(\"2. POP\")\n",
    "  print(\"3. EXIT\")\n",
    "  choice = int(input(\"Enter yout choice: \"))\n",
    "  if choice == 1:\n",
    "    element = input(\"Enter Element\")\n",
    "    push(stack, element)\n",
    "  elif choice ==  2:\n",
    "    element = popp(stack)\n",
    "    print(\"Popped Value = \", element)\n",
    "  else:\n",
    "    flag = False\n",
    "      \n",
    "  "
   ]
  },
  {
   "cell_type": "code",
   "execution_count": null,
   "metadata": {},
   "outputs": [],
   "source": []
  }
 ],
 "metadata": {
  "kernelspec": {
   "display_name": "Python 3",
   "language": "python",
   "name": "python3"
  },
  "language_info": {
   "codemirror_mode": {
    "name": "ipython",
    "version": 3
   },
   "file_extension": ".py",
   "mimetype": "text/x-python",
   "name": "python",
   "nbconvert_exporter": "python",
   "pygments_lexer": "ipython3",
   "version": "3.9.6"
  },
  "orig_nbformat": 4,
  "vscode": {
   "interpreter": {
    "hash": "31f2aee4e71d21fbe5cf8b01ff0e069b9275f58929596ceb00d14d90e3e16cd6"
   }
  }
 },
 "nbformat": 4,
 "nbformat_minor": 2
}
